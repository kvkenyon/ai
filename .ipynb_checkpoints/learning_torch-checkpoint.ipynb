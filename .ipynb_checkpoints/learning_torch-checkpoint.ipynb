{
 "cells": [
  {
   "cell_type": "code",
   "execution_count": 1,
   "metadata": {},
   "outputs": [],
   "source": [
    "from __future__ import print_function\n",
    "import torch"
   ]
  },
  {
   "cell_type": "code",
   "execution_count": 2,
   "metadata": {},
   "outputs": [],
   "source": [
    "x = torch.empty(5,3)"
   ]
  },
  {
   "cell_type": "code",
   "execution_count": 3,
   "metadata": {},
   "outputs": [
    {
     "name": "stdout",
     "output_type": "stream",
     "text": [
      "tensor([[ 0.0000e+00, -8.5899e+09,  0.0000e+00],\n",
      "        [-8.5899e+09,  1.2612e-44,  0.0000e+00],\n",
      "        [ 0.0000e+00,  0.0000e+00,  0.0000e+00],\n",
      "        [ 0.0000e+00,  0.0000e+00,  0.0000e+00],\n",
      "        [ 0.0000e+00,  0.0000e+00,  0.0000e+00]])\n"
     ]
    }
   ],
   "source": [
    "print(x)"
   ]
  },
  {
   "cell_type": "code",
   "execution_count": 5,
   "metadata": {},
   "outputs": [],
   "source": [
    "x = torch.rand(5,3)"
   ]
  },
  {
   "cell_type": "code",
   "execution_count": 6,
   "metadata": {},
   "outputs": [
    {
     "name": "stdout",
     "output_type": "stream",
     "text": [
      "tensor([[0.9038, 0.2767, 0.7048],\n",
      "        [0.4252, 0.6123, 0.4901],\n",
      "        [0.2785, 0.9918, 0.8658],\n",
      "        [0.7934, 0.8756, 0.5424],\n",
      "        [0.9366, 0.7723, 0.6963]])\n"
     ]
    }
   ],
   "source": [
    "print(x)"
   ]
  },
  {
   "cell_type": "code",
   "execution_count": 7,
   "metadata": {},
   "outputs": [],
   "source": [
    "x = x.new_ones(5,3,dtype=float)"
   ]
  },
  {
   "cell_type": "code",
   "execution_count": 19,
   "metadata": {},
   "outputs": [
    {
     "name": "stdout",
     "output_type": "stream",
     "text": [
      "tensor([[0.1569, 0.2471, 0.3674],\n",
      "        [0.9721, 0.6721, 0.2967],\n",
      "        [0.9551, 0.0400, 0.9248],\n",
      "        [0.0677, 0.1824, 0.1851],\n",
      "        [0.7199, 0.6725, 0.2166]], dtype=torch.float64)\n"
     ]
    }
   ],
   "source": [
    "print(x)"
   ]
  },
  {
   "cell_type": "code",
   "execution_count": 20,
   "metadata": {},
   "outputs": [
    {
     "data": {
      "text/plain": [
       "0"
      ]
     },
     "execution_count": 20,
     "metadata": {},
     "output_type": "execute_result"
    }
   ],
   "source": [
    "s = x.size()\n",
    "s.count(0)"
   ]
  },
  {
   "cell_type": "code",
   "execution_count": 32,
   "metadata": {},
   "outputs": [
    {
     "name": "stdout",
     "output_type": "stream",
     "text": [
      "tensor([[8.4834e-01, 9.5835e-01, 6.2098e-01],\n",
      "        [6.0755e-01, 7.1999e-02, 8.6248e-01],\n",
      "        [4.7295e-01, 2.1155e+23, 4.3278e-01],\n",
      "        [3.1494e-01, 5.7398e-02, 1.7797e-01],\n",
      "        [2.1259e+20, 2.0566e+20, 6.5306e-01]])\n",
      "tensor([[8.4834e-01, 9.5835e-01, 6.2098e-01],\n",
      "        [6.0755e-01, 7.1999e-02, 8.6248e-01],\n",
      "        [4.7295e-01, 2.1155e+23, 4.3278e-01],\n",
      "        [3.1494e-01, 5.7398e-02, 1.7797e-01],\n",
      "        [2.1259e+20, 2.0566e+20, 6.5306e-01]])\n"
     ]
    },
    {
     "data": {
      "text/plain": [
       "tensor([[8.4834e-01, 9.5835e-01, 6.2098e-01],\n",
       "        [6.0755e-01, 7.1999e-02, 8.6248e-01],\n",
       "        [4.7295e-01, 2.1155e+23, 4.3278e-01],\n",
       "        [3.1494e-01, 5.7398e-02, 1.7797e-01],\n",
       "        [2.1259e+20, 2.0566e+20, 6.5306e-01]])"
      ]
     },
     "execution_count": 32,
     "metadata": {},
     "output_type": "execute_result"
    }
   ],
   "source": [
    "y = torch.rand(5,3)\n",
    "z = x + y\n",
    "print(z)\n",
    "z = torch.add(x,y)\n",
    "print(z)\n",
    "\n",
    "result = torch.empty(5,3)\n",
    "\n",
    "torch.add(x,y, out=result)\n"
   ]
  },
  {
   "cell_type": "raw",
   "metadata": {},
   "source": []
  }
 ],
 "metadata": {
  "kernelspec": {
   "display_name": "Python 3",
   "language": "python",
   "name": "python3"
  },
  "language_info": {
   "codemirror_mode": {
    "name": "ipython",
    "version": 3
   },
   "file_extension": ".py",
   "mimetype": "text/x-python",
   "name": "python",
   "nbconvert_exporter": "python",
   "pygments_lexer": "ipython3",
   "version": "3.8.3"
  }
 },
 "nbformat": 4,
 "nbformat_minor": 4
}
